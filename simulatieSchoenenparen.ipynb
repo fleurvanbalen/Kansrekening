{
 "cells": [
  {
   "cell_type": "code",
   "execution_count": 1,
   "metadata": {},
   "outputs": [],
   "source": [
    "import random as rd\n",
    "import matplotlib.pyplot as plt\n",
    "import numpy as np"
   ]
  },
  {
   "cell_type": "code",
   "execution_count": 2,
   "metadata": {},
   "outputs": [],
   "source": [
    "def pak_schoenen(n, N): # n aantal grepen voor N aantal schoenen (n <= N en N even (N/2 aantal paren))\n",
    "    schoenen = []\n",
    "    for i in range(int(N/2)):\n",
    "       schoenen.append([str(i)+'L', str(i)+'R'])\n",
    "    getrokken = []\n",
    "    for j in range(n):\n",
    "        niet_getrokken = True\n",
    "        while niet_getrokken:\n",
    "            paar = rd.randrange(N/2)\n",
    "            LR = rd.randrange(2)\n",
    "            if [paar, LR] not in getrokken:\n",
    "                getrokken.append([paar, LR])\n",
    "                niet_getrokken = False\n",
    "    return getrokken\n",
    "\n",
    "def check_voor_paren(getrokken):\n",
    "    paren = 0\n",
    "    for i in range(5):\n",
    "        c = getrokken[i]\n",
    "        if ([c[0], 0] in getrokken) and ([c[0], 1] in getrokken):\n",
    "            paren += 1\n",
    "    return int(paren/2)\n"
   ]
  },
  {
   "cell_type": "code",
   "execution_count": 3,
   "metadata": {
    "tags": []
   },
   "outputs": [],
   "source": [
    "aantal_paren = []\n",
    "for i in range(10000000):\n",
    "    aantal_paren.append(check_voor_paren(pak_schoenen(5, 24)))\n"
   ]
  },
  {
   "cell_type": "code",
   "execution_count": 4,
   "metadata": {},
   "outputs": [
    {
     "data": {
      "image/png": "[encoded data removed]",
      "text/plain": [
       "<Figure size 432x288 with 1 Axes>"
      ]
     },
     "metadata": {
      "needs_background": "light"
     },
     "output_type": "display_data"
    }
   ],
   "source": [
    "plt.hist(aantal_paren)\n",
    "plt.show()"
   ]
  },
  {
   "cell_type": "code",
   "execution_count": 5,
   "metadata": {},
   "outputs": [
    {
     "name": "stdout",
     "output_type": "stream",
     "text": [
      "3724241 6275759 10000000\n",
      "0.3724241\n",
      "15829.513946399999\n"
     ]
    }
   ],
   "source": [
    "paar_niet_1 = aantal_paren.count(0) + aantal_paren.count(2)\n",
    "paar_1 = aantal_paren.count(1)\n",
    "print(paar_1, paar_niet_1, paar_1+paar_niet_1)\n",
    "print(paar_1/10000000)\n",
    "print((paar_1/10000000) * 42504)\n"
   ]
  }
 ],
 "metadata": {
  "kernelspec": {
   "display_name": "Python 3.9.4 64-bit",
   "name": "python394jvsc74a57bd0aee8b7b246df8f9039afb4144a1f6fd8d2ca17a180786b69acc140d282b71a49"
  },
  "language_info": {
   "codemirror_mode": {
    "name": "ipython",
    "version": 3
   },
   "file_extension": ".py",
   "mimetype": "text/x-python",
   "name": "python",
   "nbconvert_exporter": "python",
   "pygments_lexer": "ipython3",
   "version": "3.9.4"
  },
  "metadata": {
   "interpreter": {
    "hash": "aee8b7b246df8f9039afb4144a1f6fd8d2ca17a180786b69acc140d282b71a49"
   }
  },
  "orig_nbformat": 2
 },
 "nbformat": 4,
 "nbformat_minor": 2
}